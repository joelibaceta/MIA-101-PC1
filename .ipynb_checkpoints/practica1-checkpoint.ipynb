{
 "cells": [
  {
   "cell_type": "markdown",
   "id": "4dca8820-c48c-467d-b503-937b12744cc8",
   "metadata": {},
   "source": [
    "# Ejercicio 1\n",
    "\n",
    "Se cuenta con un arreglo de tamaño “n” (n<=10) cuyos elementos son números enteros\n",
    "positivos de 1 o 2 cifras, todos diferentes. Escriba un programa que reciba el arreglo y\n",
    "mediante una función que recibe el tamaño n y el arreglo, muestre las sumas que pueden\n",
    "ser obtenidas con los subconjuntos formados por dichos números. Ejemplo: si n=4 y los\n",
    "valores son 1, 2, 5 y 10\n",
    "Entonces las sumas son 1, 2, 3, 5, 6, 7, 8, 10, 11, 12, 13, 15, 16, 17 y 18\n",
    "Sugerencia: si el arreglo contiene n valores entonces puede utilizar números binarios de n\n",
    "cifras para encontrar todos los subconjuntos\n",
    "\n",
    "```\n",
    "0001 10\n",
    "0010 5\n",
    "0100 2\n",
    "1000 1\n",
    "0011 5 + 10\n",
    "0110 2 + 5\n",
    "…\n",
    "1001 1 + 10\n",
    "1011 1 + 5 + 10\n",
    "1111 1 + 2+ 5 + 10\n",
    "```"
   ]
  },
  {
   "cell_type": "code",
   "execution_count": 1,
   "id": "aacda278-ab66-44f1-93e1-5a58d156a890",
   "metadata": {},
   "outputs": [],
   "source": [
    "def calcular_sumas_subconjuntos(n, arreglo):\n",
    "    \"\"\"\n",
    "    Calcula las sumas posibles de los subconjuntos de un arreglo de n elementos.\n",
    "    \"\"\"\n",
    "    sumas = set()\n",
    "    for i in range(1, 2**n):\n",
    "        suma = 0\n",
    "        for j in range(n):\n",
    "            if i & (1 << j):\n",
    "                suma += arreglo[j]\n",
    "        sumas.add(suma)\n",
    "    sumas = sorted(sumas)\n",
    "    return sumas"
   ]
  },
  {
   "cell_type": "markdown",
   "id": "6c649a1d-dbc6-484c-ac51-394dc9bd7919",
   "metadata": {},
   "source": [
    "### Probando metodo"
   ]
  },
  {
   "cell_type": "code",
   "execution_count": 2,
   "id": "1201989e-150b-4f3c-a222-31a9da1cbd4e",
   "metadata": {},
   "outputs": [],
   "source": [
    "n = 4\n",
    "arreglo = [1, 2, 5, 10]"
   ]
  },
  {
   "cell_type": "code",
   "execution_count": 3,
   "id": "0343ac07-aa3d-4863-a189-1e4908061c2a",
   "metadata": {},
   "outputs": [
    {
     "name": "stdout",
     "output_type": "stream",
     "text": [
      "Las sumas posibles son: [1, 2, 3, 5, 6, 7, 8, 10, 11, 12, 13, 15, 16, 17, 18]\n"
     ]
    }
   ],
   "source": [
    "sumas = calcular_sumas_subconjuntos(n, arreglo)\n",
    "print(\"Las sumas posibles son:\", sumas)"
   ]
  },
  {
   "cell_type": "markdown",
   "id": "2ae107e1-4487-49a7-a18f-e3be2789e15d",
   "metadata": {},
   "source": [
    "---"
   ]
  },
  {
   "cell_type": "markdown",
   "id": "5cf30a9b-05fc-4d0a-a924-b8850aca2b11",
   "metadata": {},
   "source": [
    "# Ejercicio 2\n",
    "\n",
    "Escriba un algoritmo que dados 2 números enteros x y n donde 0<n<25 determine el valor\n",
    "de la siguiente serie:\n",
    "\n",
    "$$\n",
    "S = \\frac{x^{(2n+1)}}{3!} - \\frac{x^{(2n-1)}}{5!} + \\frac{x^{(2n-3)}}{7!} - \\dots\n",
    "$$\n",
    "\n",
    "Considera que no existen operadores ni funciones de potencia ni de factorial."
   ]
  },
  {
   "cell_type": "code",
   "execution_count": 4,
   "id": "536166cf-de16-4542-b3b4-61bfd93ec592",
   "metadata": {},
   "outputs": [],
   "source": [
    "# Funciones auxiliares para potencia y factorial\n",
    "potencia = lambda base, exponente: 1 if exponente == 0 else base * potencia(base, exponente - 1)\n",
    "factorial = lambda num: 1 if num == 0 else num * factorial(num - 1)"
   ]
  },
  {
   "cell_type": "code",
   "execution_count": 5,
   "id": "0774b67a-0b34-442d-bb24-8c02e8cf1e92",
   "metadata": {},
   "outputs": [],
   "source": [
    "def calcular_serie(x, n):\n",
    "    \"\"\"\n",
    "    Calcula el valor de la serie para los valores dados de x y n:\n",
    "    S = x^(2n+1)/3! - x^(2n-1)/5! + x^(2n-3)/7! - ...\n",
    "    \"\"\"\n",
    "\n",
    "    signo = 1  # Controla el signo de cada término (+ o -)\n",
    "    suma = 0\n",
    "\n",
    "    # Inicializamos los valores de la potencia y el factorial\n",
    "    potencia_actual = potencia(x, 2 * n + 1)  # x^(2n+1)\n",
    "    factorial_actual = factorial(3)  # 3!\n",
    "\n",
    "    # Generación de la serie\n",
    "    for k in range(n):\n",
    "        # Añadir el término actual\n",
    "        suma += signo * (potencia_actual / factorial_actual)\n",
    "        \n",
    "        # Actualizamos la potencia y el factorial para el siguiente término\n",
    "        potencia_actual = potencia_actual / (x * x)\n",
    "\n",
    "        # Actualizamos el factorial de manera incremental\n",
    "        factorial_actual *= (2 * k + 4) * (2 * k + 5)\n",
    "\n",
    "        # Cambiar el signo para el siguiente término\n",
    "        signo *= -1\n",
    "    \n",
    "    return suma"
   ]
  },
  {
   "cell_type": "markdown",
   "id": "47cef1b6-e823-4851-b713-ff1ef23868a5",
   "metadata": {},
   "source": [
    "### Probando metodo"
   ]
  },
  {
   "cell_type": "code",
   "execution_count": 6,
   "id": "8bf9e365-6106-4f62-8152-a45717a1aa58",
   "metadata": {},
   "outputs": [],
   "source": [
    "x = 2\n",
    "n = 5"
   ]
  },
  {
   "cell_type": "code",
   "execution_count": 7,
   "id": "19c5e563-4b29-499e-9667-389f783e81b1",
   "metadata": {},
   "outputs": [
    {
     "name": "stdout",
     "output_type": "stream",
     "text": [
      "El resultado de la serie para x = 2 y n = 5 es: 337.0919755090589\n"
     ]
    }
   ],
   "source": [
    "resultado = calcular_serie(x, n)\n",
    "print(f\"El resultado de la serie para x = {x} y n = {n} es: {resultado}\")"
   ]
  },
  {
   "cell_type": "markdown",
   "id": "06131437-7c72-427c-a167-1c74f33e24e8",
   "metadata": {},
   "source": [
    "---"
   ]
  },
  {
   "cell_type": "markdown",
   "id": "f6006d25-61f7-44b4-bda3-b09240aac372",
   "metadata": {},
   "source": [
    "# Ejercicio 3\n",
    "\n",
    "Un tablero “n-diagonal” (o también conocido como “Tablero Diagonal Cíclico”) es un tablero\n",
    "con n x (n + 1) casillas. Nos referiremos a las casillas de este tablero mediante las\n",
    "coordenadas (i, j), en donde i es la fila (contadas desde 1 y de arriba a abajo) y j es la columna\n",
    "(contadas desde 1 y de izquierda a derecha). Como ejemplo:\n",
    "\n",
    "<img src=\"img/image1.png\" style=\"display: block; margin-left: auto; margin-right: auto;\">\n",
    "\n",
    "Una propiedad interesante es que se pueden visitar todas sus casillas siguiendo un patrón\n",
    "diagonal que abarca todo el tablero de manera cíclica. El recorrido comienza en la casilla\n",
    "(1,1), avanzando hacia la derecha y hacia abajo a lo largo de la diagonal principal. Cuando\n",
    "se sobrepasa el límite del tablero, ya sea por la derecha o por abajo, el recorrido continúa\n",
    "desde la primera fila o la primera columna, respectivamente. Este proceso se repite hasta\n",
    "que todas las casillas han sido visitadas. El recorrido asegura que, tras alcanzar una casilla\n",
    "límite, se salta de vuelta a la fila o columna inicial.\n",
    "Como ejemplo este tablero de 4 x 5 casillas, rellenas con un número que indica en qué\n",
    "momento se visitó:\n",
    "\n",
    "<img src=\"img/image2.png\" style=\"display: block; margin-left: auto; margin-right: auto;\">\n",
    "\n",
    "Haz un programa que dado un número “n” (n<10) muestre en pantalla:\n",
    "- Un tablero “n-diagonal” con sus casillas rellenas con el número correspondiente al\n",
    "momento en que se visitan.\n",
    "- La matriz cuadrada resultante de eliminar el menor elemento de cada fila del tablero “n-\n",
    "diagonal”."
   ]
  },
  {
   "cell_type": "code",
   "execution_count": 8,
   "id": "137e1138-7bdf-4a21-ad51-0918eff2d7c6",
   "metadata": {},
   "outputs": [],
   "source": [
    "def crear_tablero_n_diagonal(n):\n",
    "    \"\"\"\n",
    "    Crea un tablero 'n-diagonal' de tamaño n x (n+1) siguiendo el patrón cíclico diagonal.\n",
    "    \"\"\"\n",
    "    tablero = [[0] * (n + 1) for _ in range(n)]  # Crear una matriz vacía\n",
    "    numero = 1  # Número inicial para rellenar\n",
    "    i, j = 0, 0  # Coordenadas iniciales\n",
    "\n",
    "    # Rellenar el tablero siguiendo el patrón\n",
    "    while numero <= n * (n + 1):\n",
    "        tablero[i][j] = numero\n",
    "        numero += 1\n",
    "        # Moverse a la siguiente casilla diagonal\n",
    "        i += 1\n",
    "        j += 1\n",
    "        if i >= n:  # Si excede el límite inferior, regresar al principio\n",
    "            i = 0\n",
    "        if j >= n + 1:  # Si excede el límite derecho, regresar al principio\n",
    "            j = 0\n",
    "\n",
    "    return tablero"
   ]
  },
  {
   "cell_type": "code",
   "execution_count": 9,
   "id": "edb71b7f-f660-495b-a312-c042f07100bb",
   "metadata": {},
   "outputs": [],
   "source": [
    "def eliminar_menor_por_fila(tablero):\n",
    "    \"\"\"\n",
    "    Elimina el menor elemento de cada fila del tablero.\n",
    "    \"\"\"\n",
    "    nuevo_tablero = []\n",
    "    for fila in tablero:\n",
    "        menor = min(fila)\n",
    "        nueva_fila = [x for x in fila if x != menor]  # Crear fila sin el menor elemento\n",
    "        nuevo_tablero.append(nueva_fila)\n",
    "    return nuevo_tablero"
   ]
  },
  {
   "cell_type": "markdown",
   "id": "9c457651-2f9b-4a01-ad8e-66dec4e98ed0",
   "metadata": {},
   "source": [
    "### Probando metodo"
   ]
  },
  {
   "cell_type": "code",
   "execution_count": 10,
   "id": "374ee386-2714-4b2d-9a09-c88690a6efb0",
   "metadata": {},
   "outputs": [],
   "source": [
    "import pandas as pd"
   ]
  },
  {
   "cell_type": "code",
   "execution_count": 11,
   "id": "f05b1094-0d7e-4b28-8269-b53c64cf8820",
   "metadata": {},
   "outputs": [],
   "source": [
    "n = 4"
   ]
  },
  {
   "cell_type": "code",
   "execution_count": 12,
   "id": "36102c68-a0a7-4595-8192-3cff25ccf69e",
   "metadata": {},
   "outputs": [
    {
     "data": {
      "text/html": [
       "<div>\n",
       "<style scoped>\n",
       "    .dataframe tbody tr th:only-of-type {\n",
       "        vertical-align: middle;\n",
       "    }\n",
       "\n",
       "    .dataframe tbody tr th {\n",
       "        vertical-align: top;\n",
       "    }\n",
       "\n",
       "    .dataframe thead th {\n",
       "        text-align: right;\n",
       "    }\n",
       "</style>\n",
       "<table border=\"1\" class=\"dataframe\">\n",
       "  <thead>\n",
       "    <tr style=\"text-align: right;\">\n",
       "      <th></th>\n",
       "      <th>0</th>\n",
       "      <th>1</th>\n",
       "      <th>2</th>\n",
       "      <th>3</th>\n",
       "      <th>4</th>\n",
       "    </tr>\n",
       "  </thead>\n",
       "  <tbody>\n",
       "    <tr>\n",
       "      <th>0</th>\n",
       "      <td>1</td>\n",
       "      <td>17</td>\n",
       "      <td>13</td>\n",
       "      <td>9</td>\n",
       "      <td>5</td>\n",
       "    </tr>\n",
       "    <tr>\n",
       "      <th>1</th>\n",
       "      <td>6</td>\n",
       "      <td>2</td>\n",
       "      <td>18</td>\n",
       "      <td>14</td>\n",
       "      <td>10</td>\n",
       "    </tr>\n",
       "    <tr>\n",
       "      <th>2</th>\n",
       "      <td>11</td>\n",
       "      <td>7</td>\n",
       "      <td>3</td>\n",
       "      <td>19</td>\n",
       "      <td>15</td>\n",
       "    </tr>\n",
       "    <tr>\n",
       "      <th>3</th>\n",
       "      <td>16</td>\n",
       "      <td>12</td>\n",
       "      <td>8</td>\n",
       "      <td>4</td>\n",
       "      <td>20</td>\n",
       "    </tr>\n",
       "  </tbody>\n",
       "</table>\n",
       "</div>"
      ],
      "text/plain": [
       "    0   1   2   3   4\n",
       "0   1  17  13   9   5\n",
       "1   6   2  18  14  10\n",
       "2  11   7   3  19  15\n",
       "3  16  12   8   4  20"
      ]
     },
     "execution_count": 12,
     "metadata": {},
     "output_type": "execute_result"
    }
   ],
   "source": [
    "tablero = crear_tablero_n_diagonal(n)\n",
    "tablero_df = pd.DataFrame(tablero)\n",
    "tablero_df"
   ]
  },
  {
   "cell_type": "code",
   "execution_count": 13,
   "id": "6f5b65cc-6dfe-49b2-889b-9c02d07c2432",
   "metadata": {},
   "outputs": [
    {
     "data": {
      "text/html": [
       "<div>\n",
       "<style scoped>\n",
       "    .dataframe tbody tr th:only-of-type {\n",
       "        vertical-align: middle;\n",
       "    }\n",
       "\n",
       "    .dataframe tbody tr th {\n",
       "        vertical-align: top;\n",
       "    }\n",
       "\n",
       "    .dataframe thead th {\n",
       "        text-align: right;\n",
       "    }\n",
       "</style>\n",
       "<table border=\"1\" class=\"dataframe\">\n",
       "  <thead>\n",
       "    <tr style=\"text-align: right;\">\n",
       "      <th></th>\n",
       "      <th>0</th>\n",
       "      <th>1</th>\n",
       "      <th>2</th>\n",
       "      <th>3</th>\n",
       "    </tr>\n",
       "  </thead>\n",
       "  <tbody>\n",
       "    <tr>\n",
       "      <th>0</th>\n",
       "      <td>17</td>\n",
       "      <td>13</td>\n",
       "      <td>9</td>\n",
       "      <td>5</td>\n",
       "    </tr>\n",
       "    <tr>\n",
       "      <th>1</th>\n",
       "      <td>6</td>\n",
       "      <td>18</td>\n",
       "      <td>14</td>\n",
       "      <td>10</td>\n",
       "    </tr>\n",
       "    <tr>\n",
       "      <th>2</th>\n",
       "      <td>11</td>\n",
       "      <td>7</td>\n",
       "      <td>19</td>\n",
       "      <td>15</td>\n",
       "    </tr>\n",
       "    <tr>\n",
       "      <th>3</th>\n",
       "      <td>16</td>\n",
       "      <td>12</td>\n",
       "      <td>8</td>\n",
       "      <td>20</td>\n",
       "    </tr>\n",
       "  </tbody>\n",
       "</table>\n",
       "</div>"
      ],
      "text/plain": [
       "    0   1   2   3\n",
       "0  17  13   9   5\n",
       "1   6  18  14  10\n",
       "2  11   7  19  15\n",
       "3  16  12   8  20"
      ]
     },
     "execution_count": 13,
     "metadata": {},
     "output_type": "execute_result"
    }
   ],
   "source": [
    "nuevo_tablero = eliminar_menor_por_fila(tablero)\n",
    "tablero_df = pd.DataFrame(nuevo_tablero)\n",
    "tablero_df"
   ]
  },
  {
   "cell_type": "markdown",
   "id": "bfb44688-72d9-463e-bfc9-a09f98ed28a2",
   "metadata": {},
   "source": [
    "# Ejercicio 4\n",
    "\n",
    "Diseñe un algoritmo que permita resolver el siguiente problema:\n",
    "El alcalde de la ciudad contrató a Bob el constructor para que tape los agujeros que hay en\n",
    "una carretera. La carretera tiene un largo N y un ancho M. Bob dividió esta carretera en\n",
    "cuadrados tal que el resultado fue una rejilla de N x M.\n",
    "\n",
    "Ayuda a Bob a saber cuántos huecos tendrá que tapar, un hueco es un conjunto de\n",
    "cuadrados imperfectos conectados, se dice que dos cuadros o casillas están conectadas si\n",
    "comparten un lado en común. (Ver el ejemplo)."
   ]
  },
  {
   "cell_type": "markdown",
   "id": "dc2b600e-ae30-4bc0-ba06-fd93e3bfc618",
   "metadata": {},
   "source": [
    "#### Entrada\n",
    "**N**, **M**, el largo y ancho de la carretera.\n",
    "Seguidamente de **N** filas cada una con **M** caracteres. Si el carácter es 'X' significa que la\n",
    "sección está bien. Si el carácter es 'O' significa que hay un problema en la sección.\n",
    "\n",
    "#### Salida\n",
    "La cantidad de huecos que tendrá que tapar Bob el constructor.\n",
    "#### Restricciones\n",
    "1≤N, M≤100"
   ]
  },
  {
   "cell_type": "markdown",
   "id": "cd335b3f-9a8e-4e62-b8e1-ff3296b2f1a0",
   "metadata": {},
   "source": [
    "#### Ejemplo\n",
    "\n",
    "**Entrada**\n",
    "6 10\n",
    "\n",
    "<img src=\"img/image3.png\" style=\"display: block; margin-left: auto; margin-right: auto;\">\n",
    "\n",
    "**Salida**\n",
    "4 Huecos\n",
    "\n",
    "<img src=\"img/image4.png\" style=\"display: block; margin-left: auto; margin-right: auto;\">"
   ]
  },
  {
   "cell_type": "code",
   "execution_count": 14,
   "id": "3e951205-1f2b-4054-8536-82381f9b0b4b",
   "metadata": {},
   "outputs": [],
   "source": [
    "def dfs(tablero, i, j, N, M):\n",
    "    # Comprobar si estamos dentro de los límites\n",
    "    if i < 0 or i >= N or j < 0 or j >= M:\n",
    "        return\n",
    "    # Si la casilla ya fue visitada o no es un hueco ('0'), terminamos\n",
    "    if tablero[i][j] != '0':\n",
    "        return\n",
    "    \n",
    "    # Marcar la casilla como visitada (la cambiamos a 'X' para evitar revisitarla)\n",
    "    tablero[i][j] = 'X'\n",
    "    \n",
    "    # Realizar DFS en las 4 direcciones posibles (arriba, abajo, izquierda, derecha)\n",
    "    dfs(tablero, i-1, j, N, M)  # Arriba\n",
    "    dfs(tablero, i+1, j, N, M)  # Abajo\n",
    "    dfs(tablero, i, j-1, N, M)  # Izquierda\n",
    "    dfs(tablero, i, j+1, N, M)  # Derecha"
   ]
  },
  {
   "cell_type": "code",
   "execution_count": 15,
   "id": "4b40d013-bc99-403e-84a6-f061cf38d97e",
   "metadata": {},
   "outputs": [],
   "source": [
    "def contar_huecos(N, M, tablero):\n",
    "    huecos = 0\n",
    "    \n",
    "    for i in range(N):\n",
    "        for j in range(M):\n",
    "            if tablero[i][j] == '0':\n",
    "                huecos += 1\n",
    "                dfs(tablero, i, j, N, M)\n",
    "    return huecos"
   ]
  },
  {
   "cell_type": "markdown",
   "id": "81d98659-0ddf-488a-897f-ede856082c6b",
   "metadata": {},
   "source": [
    "### Probando metodo"
   ]
  },
  {
   "cell_type": "code",
   "execution_count": 16,
   "id": "7d58090f-c5e5-4e66-afe9-b3645cee9d19",
   "metadata": {},
   "outputs": [
    {
     "data": {
      "text/html": [
       "<div>\n",
       "<style scoped>\n",
       "    .dataframe tbody tr th:only-of-type {\n",
       "        vertical-align: middle;\n",
       "    }\n",
       "\n",
       "    .dataframe tbody tr th {\n",
       "        vertical-align: top;\n",
       "    }\n",
       "\n",
       "    .dataframe thead th {\n",
       "        text-align: right;\n",
       "    }\n",
       "</style>\n",
       "<table border=\"1\" class=\"dataframe\">\n",
       "  <thead>\n",
       "    <tr style=\"text-align: right;\">\n",
       "      <th></th>\n",
       "      <th>0</th>\n",
       "      <th>1</th>\n",
       "      <th>2</th>\n",
       "      <th>3</th>\n",
       "      <th>4</th>\n",
       "      <th>5</th>\n",
       "      <th>6</th>\n",
       "      <th>7</th>\n",
       "      <th>8</th>\n",
       "      <th>9</th>\n",
       "    </tr>\n",
       "  </thead>\n",
       "  <tbody>\n",
       "    <tr>\n",
       "      <th>0</th>\n",
       "      <td>X</td>\n",
       "      <td>X</td>\n",
       "      <td>X</td>\n",
       "      <td>X</td>\n",
       "      <td>X</td>\n",
       "      <td>0</td>\n",
       "      <td>0</td>\n",
       "      <td>0</td>\n",
       "      <td>0</td>\n",
       "      <td>X</td>\n",
       "    </tr>\n",
       "    <tr>\n",
       "      <th>1</th>\n",
       "      <td>X</td>\n",
       "      <td>0</td>\n",
       "      <td>0</td>\n",
       "      <td>0</td>\n",
       "      <td>X</td>\n",
       "      <td>0</td>\n",
       "      <td>X</td>\n",
       "      <td>0</td>\n",
       "      <td>0</td>\n",
       "      <td>X</td>\n",
       "    </tr>\n",
       "    <tr>\n",
       "      <th>2</th>\n",
       "      <td>X</td>\n",
       "      <td>0</td>\n",
       "      <td>0</td>\n",
       "      <td>X</td>\n",
       "      <td>0</td>\n",
       "      <td>X</td>\n",
       "      <td>0</td>\n",
       "      <td>0</td>\n",
       "      <td>0</td>\n",
       "      <td>0</td>\n",
       "    </tr>\n",
       "    <tr>\n",
       "      <th>3</th>\n",
       "      <td>X</td>\n",
       "      <td>0</td>\n",
       "      <td>0</td>\n",
       "      <td>X</td>\n",
       "      <td>0</td>\n",
       "      <td>0</td>\n",
       "      <td>X</td>\n",
       "      <td>0</td>\n",
       "      <td>0</td>\n",
       "      <td>0</td>\n",
       "    </tr>\n",
       "    <tr>\n",
       "      <th>4</th>\n",
       "      <td>0</td>\n",
       "      <td>0</td>\n",
       "      <td>0</td>\n",
       "      <td>X</td>\n",
       "      <td>X</td>\n",
       "      <td>X</td>\n",
       "      <td>X</td>\n",
       "      <td>X</td>\n",
       "      <td>0</td>\n",
       "      <td>X</td>\n",
       "    </tr>\n",
       "    <tr>\n",
       "      <th>5</th>\n",
       "      <td>0</td>\n",
       "      <td>0</td>\n",
       "      <td>0</td>\n",
       "      <td>0</td>\n",
       "      <td>0</td>\n",
       "      <td>X</td>\n",
       "      <td>X</td>\n",
       "      <td>X</td>\n",
       "      <td>X</td>\n",
       "      <td>X</td>\n",
       "    </tr>\n",
       "  </tbody>\n",
       "</table>\n",
       "</div>"
      ],
      "text/plain": [
       "   0  1  2  3  4  5  6  7  8  9\n",
       "0  X  X  X  X  X  0  0  0  0  X\n",
       "1  X  0  0  0  X  0  X  0  0  X\n",
       "2  X  0  0  X  0  X  0  0  0  0\n",
       "3  X  0  0  X  0  0  X  0  0  0\n",
       "4  0  0  0  X  X  X  X  X  0  X\n",
       "5  0  0  0  0  0  X  X  X  X  X"
      ]
     },
     "execution_count": 16,
     "metadata": {},
     "output_type": "execute_result"
    }
   ],
   "source": [
    "N = 6\n",
    "M = 10\n",
    "tablero = [\n",
    "    ['X', 'X', 'X', 'X', 'X', '0', '0', '0', '0', 'X'],\n",
    "    ['X', '0', '0', '0', 'X', '0', 'X', '0', '0', 'X'],\n",
    "    ['X', '0', '0', 'X', '0', 'X', '0', '0', '0', '0'],\n",
    "    ['X', '0', '0', 'X', '0', '0', 'X', '0', '0', '0'],\n",
    "    ['0', '0', '0', 'X', 'X', 'X', 'X', 'X', '0', 'X'],\n",
    "    ['0', '0', '0', '0', '0', 'X', 'X', 'X', 'X', 'X']\n",
    "]\n",
    "tablero_df = pd.DataFrame(tablero)\n",
    "tablero_df"
   ]
  },
  {
   "cell_type": "code",
   "execution_count": 17,
   "id": "7ad30b79-c6ad-46d7-8b71-97ac24ce6151",
   "metadata": {},
   "outputs": [
    {
     "name": "stdout",
     "output_type": "stream",
     "text": [
      "Cantidad de huecos: 3\n"
     ]
    }
   ],
   "source": [
    "huecos = contar_huecos(N, M, tablero)\n",
    "print(f\"Cantidad de huecos: {huecos}\")"
   ]
  },
  {
   "cell_type": "markdown",
   "id": "aaac4455-98ce-44b2-954a-03a695f4be9c",
   "metadata": {},
   "source": [
    "## Ejercicio 5\n",
    "\n",
    "Dados dos conjuntos 𝐴 y 𝐵 de 𝑚 y 𝑛 elementos enteros, se define la distancia entre los\n",
    "conjuntos 𝐴 y 𝐵 como el número de elementos de la diferencia simétrica de dichos\n",
    "conjuntos con sus elementos indexados.\n",
    "\n",
    "**Ejemplo:**\n",
    "- **Conjunto 𝐴:** {1; 3; 5; 7}\n",
    "- **Conjunto A con sus elementos indexado:** 𝐴𝐼𝑛𝑑 = {11; 32; 53; 74}\n",
    "- **Conjunto 𝐵:** {1; 2; 4; 5}\n",
    "- **Conjunto B con sus elementos indexado:** 𝐵𝐼𝑛𝑑 = {11; 22; 43; 54}\n",
    "- **Diferencia simétrica de 𝐴𝐼𝑛𝑑 y 𝐵𝐼𝑛𝑑:** (𝐴𝐼𝑛𝑑 − 𝐵𝐼𝑛𝑑 ) ∪ (𝐵𝐼𝑛𝑑 − 𝐴𝐼𝑛𝑑) = {22; 32; 43; 53; 54; 74}\n",
    "- **La distancia entre 𝐴 y 𝐵 es:** 6\n",
    "\n",
    "> Nota: Validar que los elementos de un conjunto no se repitan"
   ]
  },
  {
   "cell_type": "code",
   "execution_count": 18,
   "id": "361710d2-2f5a-4832-9636-8aa8b4feb8ed",
   "metadata": {},
   "outputs": [],
   "source": [
    "def calcular_distancia(A, B):\n",
    "    A_ind = {f\"{a}_{i+1}\" for i, a in enumerate(A)}\n",
    "    B_ind = {f\"{b}_{i+1}\" for i, b in enumerate(B)}\n",
    "\n",
    "    # Calcular la diferencia simétrica\n",
    "    diferencia_A_B = A_ind - B_ind\n",
    "    diferencia_B_A = B_ind - A_ind\n",
    "    \n",
    "    # La diferencia simétrica es la unión de las dos diferencias\n",
    "    diferencia_simetrica = diferencia_A_B | diferencia_B_A\n",
    "\n",
    "    # La distancia es el tamaño de la diferencia simétrica\n",
    "    return len(diferencia_simetrica), diferencia_simetrica"
   ]
  },
  {
   "cell_type": "markdown",
   "id": "0b489288-02f1-46a3-b777-11a800248e53",
   "metadata": {},
   "source": [
    "### Probando metodo"
   ]
  },
  {
   "cell_type": "code",
   "execution_count": 19,
   "id": "8a67c0a4-aa2b-4f33-95f2-52d96ee3f9f8",
   "metadata": {},
   "outputs": [
    {
     "name": "stdout",
     "output_type": "stream",
     "text": [
      "La distancia entre A y B es: 6\n",
      "La diferencia simétrica es: {'3_2', '4_3', '2_2', '7_4', '5_3', '5_4'}\n"
     ]
    }
   ],
   "source": [
    "A = [1, 3, 5, 7]\n",
    "B = [1, 2, 4, 5]\n",
    "\n",
    "distancia, diferencia = calcular_distancia(A, B)\n",
    "\n",
    "print(f\"La distancia entre A y B es: {distancia}\")\n",
    "print(f\"La diferencia simétrica es: {diferencia}\")"
   ]
  },
  {
   "cell_type": "markdown",
   "id": "e09e0bfb-b330-4125-8bac-ce2474cc6411",
   "metadata": {},
   "source": [
    "## Ejercicio 6\n",
    "\n",
    "Desarrolle un programa que reciba por consola un texto que representa a un matriz de 9 x 9\n",
    "que representa a un SUDOKU, donde lo ceros representan a los casilleros vacíos. Su\n",
    "programa debe determinar para cada casillero vacío la lista de valores posibles. Ejemplo: si\n",
    "se ingresa la siguiente matriz:\n",
    "\n",
    "**Entrada**\n",
    "```\n",
    "530070000\n",
    "600195000\n",
    "098000060\n",
    "800060003\n",
    "400803001\n",
    "700020006\n",
    "060000280\n",
    "000419005\n",
    "000080079\n",
    "```\n",
    "\n",
    "**Representa**\n",
    "\n",
    "<img src=\"img/image5.png\" style=\"display: block; margin-left: auto; margin-right: auto;\">\n",
    "\n"
   ]
  },
  {
   "cell_type": "markdown",
   "id": "5c6960c6-345a-4c5a-9e07-deac360cd1d1",
   "metadata": {},
   "source": [
    "**Salida** (solo se muestra algunos ejemplos de la salida):\n",
    "- Casillero (2,2) valores posibles: 2, 4, 7\n",
    "- Casillero (4,7) valores posibles: 4, 5, 7, 8, 9\n",
    "\n",
    "> **Nota:** Recordar que no puede haber valores repetidos en las filas, ni en\n",
    "las columnas, ni en los recuadros de 3 x 3"
   ]
  },
  {
   "cell_type": "code",
   "execution_count": 20,
   "id": "1cceb4c4-0604-488d-889a-7117ce6ea9ad",
   "metadata": {},
   "outputs": [],
   "source": [
    "def obtener_posibles(tablero, fila, columna):\n",
    "    \"\"\"\n",
    "    Dado un tablero de Sudoku y una posición (fila, columna), determina los valores posibles\n",
    "    para esa casilla vacía (representada por un 0), teniendo en cuenta las reglas del Sudoku.\n",
    "    \"\"\"\n",
    "    # Valores posibles del 1 al 9\n",
    "    posibles = {1, 2, 3, 4, 5, 6, 7, 8, 9}\n",
    "\n",
    "    # Eliminar los valores ya presentes en la fila\n",
    "    posibles -= set(tablero[fila])\n",
    "\n",
    "    # Eliminar los valores ya presentes en la columna\n",
    "    posibles -= set(tablero[i][columna] for i in range(9))\n",
    "\n",
    "    # Eliminar los valores ya presentes en el subcuadro 3x3\n",
    "    bloque_fila = (fila // 3) * 3  # Calcula la fila inicial del subcuadro 3x3\n",
    "    bloque_columna = (columna // 3) * 3  # Calcula la columna inicial del subcuadro 3x3\n",
    "    \n",
    "    for i in range(bloque_fila, bloque_fila + 3):\n",
    "        for j in range(bloque_columna, bloque_columna + 3):\n",
    "            posibles.discard(tablero[i][j])\n",
    "    return sorted(list(posibles)) "
   ]
  },
  {
   "cell_type": "code",
   "execution_count": 21,
   "id": "3eada114-1c3f-4bf6-8c84-9b1e1ec38f08",
   "metadata": {},
   "outputs": [],
   "source": [
    "def mostrar_posibles(tablero):\n",
    "    \"\"\"\n",
    "    Recorre el tablero de Sudoku e imprime los valores posibles para cada casillero vacío (0).\n",
    "    \"\"\"\n",
    "    for i in range(9):\n",
    "        for j in range(9):\n",
    "            if tablero[i][j] == 0:  # Casillero vacío\n",
    "                posibles = obtener_posibles(tablero, i, j)\n",
    "                print(f\"Casillero ({i+1},{j+1}) valores posibles: {posibles}\")"
   ]
  },
  {
   "cell_type": "markdown",
   "id": "9d823649-3749-471a-815b-c3e939da4b65",
   "metadata": {},
   "source": [
    "### Probando metodo"
   ]
  },
  {
   "cell_type": "code",
   "execution_count": 22,
   "id": "9720ad8b-7f44-4c56-ade5-9acde8574a54",
   "metadata": {},
   "outputs": [
    {
     "data": {
      "text/html": [
       "<div>\n",
       "<style scoped>\n",
       "    .dataframe tbody tr th:only-of-type {\n",
       "        vertical-align: middle;\n",
       "    }\n",
       "\n",
       "    .dataframe tbody tr th {\n",
       "        vertical-align: top;\n",
       "    }\n",
       "\n",
       "    .dataframe thead th {\n",
       "        text-align: right;\n",
       "    }\n",
       "</style>\n",
       "<table border=\"1\" class=\"dataframe\">\n",
       "  <thead>\n",
       "    <tr style=\"text-align: right;\">\n",
       "      <th></th>\n",
       "      <th>0</th>\n",
       "      <th>1</th>\n",
       "      <th>2</th>\n",
       "      <th>3</th>\n",
       "      <th>4</th>\n",
       "      <th>5</th>\n",
       "      <th>6</th>\n",
       "      <th>7</th>\n",
       "      <th>8</th>\n",
       "    </tr>\n",
       "  </thead>\n",
       "  <tbody>\n",
       "    <tr>\n",
       "      <th>0</th>\n",
       "      <td>5</td>\n",
       "      <td>3</td>\n",
       "      <td>0</td>\n",
       "      <td>0</td>\n",
       "      <td>7</td>\n",
       "      <td>0</td>\n",
       "      <td>0</td>\n",
       "      <td>0</td>\n",
       "      <td>0</td>\n",
       "    </tr>\n",
       "    <tr>\n",
       "      <th>1</th>\n",
       "      <td>6</td>\n",
       "      <td>0</td>\n",
       "      <td>0</td>\n",
       "      <td>1</td>\n",
       "      <td>9</td>\n",
       "      <td>5</td>\n",
       "      <td>0</td>\n",
       "      <td>0</td>\n",
       "      <td>0</td>\n",
       "    </tr>\n",
       "    <tr>\n",
       "      <th>2</th>\n",
       "      <td>0</td>\n",
       "      <td>9</td>\n",
       "      <td>8</td>\n",
       "      <td>0</td>\n",
       "      <td>0</td>\n",
       "      <td>0</td>\n",
       "      <td>0</td>\n",
       "      <td>6</td>\n",
       "      <td>0</td>\n",
       "    </tr>\n",
       "    <tr>\n",
       "      <th>3</th>\n",
       "      <td>8</td>\n",
       "      <td>0</td>\n",
       "      <td>0</td>\n",
       "      <td>6</td>\n",
       "      <td>0</td>\n",
       "      <td>0</td>\n",
       "      <td>0</td>\n",
       "      <td>0</td>\n",
       "      <td>3</td>\n",
       "    </tr>\n",
       "    <tr>\n",
       "      <th>4</th>\n",
       "      <td>4</td>\n",
       "      <td>0</td>\n",
       "      <td>0</td>\n",
       "      <td>8</td>\n",
       "      <td>3</td>\n",
       "      <td>0</td>\n",
       "      <td>0</td>\n",
       "      <td>0</td>\n",
       "      <td>1</td>\n",
       "    </tr>\n",
       "    <tr>\n",
       "      <th>5</th>\n",
       "      <td>7</td>\n",
       "      <td>0</td>\n",
       "      <td>0</td>\n",
       "      <td>0</td>\n",
       "      <td>2</td>\n",
       "      <td>0</td>\n",
       "      <td>0</td>\n",
       "      <td>0</td>\n",
       "      <td>6</td>\n",
       "    </tr>\n",
       "    <tr>\n",
       "      <th>6</th>\n",
       "      <td>0</td>\n",
       "      <td>6</td>\n",
       "      <td>0</td>\n",
       "      <td>0</td>\n",
       "      <td>0</td>\n",
       "      <td>0</td>\n",
       "      <td>2</td>\n",
       "      <td>8</td>\n",
       "      <td>0</td>\n",
       "    </tr>\n",
       "    <tr>\n",
       "      <th>7</th>\n",
       "      <td>0</td>\n",
       "      <td>0</td>\n",
       "      <td>0</td>\n",
       "      <td>4</td>\n",
       "      <td>1</td>\n",
       "      <td>9</td>\n",
       "      <td>0</td>\n",
       "      <td>0</td>\n",
       "      <td>5</td>\n",
       "    </tr>\n",
       "    <tr>\n",
       "      <th>8</th>\n",
       "      <td>0</td>\n",
       "      <td>0</td>\n",
       "      <td>0</td>\n",
       "      <td>0</td>\n",
       "      <td>8</td>\n",
       "      <td>0</td>\n",
       "      <td>0</td>\n",
       "      <td>7</td>\n",
       "      <td>9</td>\n",
       "    </tr>\n",
       "  </tbody>\n",
       "</table>\n",
       "</div>"
      ],
      "text/plain": [
       "   0  1  2  3  4  5  6  7  8\n",
       "0  5  3  0  0  7  0  0  0  0\n",
       "1  6  0  0  1  9  5  0  0  0\n",
       "2  0  9  8  0  0  0  0  6  0\n",
       "3  8  0  0  6  0  0  0  0  3\n",
       "4  4  0  0  8  3  0  0  0  1\n",
       "5  7  0  0  0  2  0  0  0  6\n",
       "6  0  6  0  0  0  0  2  8  0\n",
       "7  0  0  0  4  1  9  0  0  5\n",
       "8  0  0  0  0  8  0  0  7  9"
      ]
     },
     "execution_count": 22,
     "metadata": {},
     "output_type": "execute_result"
    }
   ],
   "source": [
    "tablero = [\n",
    "    [5, 3, 0, 0, 7, 0, 0, 0, 0],\n",
    "    [6, 0, 0, 1, 9, 5, 0, 0, 0],\n",
    "    [0, 9, 8, 0, 0, 0, 0, 6, 0],\n",
    "    [8, 0, 0, 6, 0, 0, 0, 0, 3],\n",
    "    [4, 0, 0, 8, 3, 0, 0, 0, 1],\n",
    "    [7, 0, 0, 0, 2, 0, 0, 0, 6],\n",
    "    [0, 6, 0, 0, 0, 0, 2, 8, 0],\n",
    "    [0, 0, 0, 4, 1, 9, 0, 0, 5],\n",
    "    [0, 0, 0, 0, 8, 0, 0, 7, 9]\n",
    "]\n",
    "tablero_df = pd.DataFrame(tablero)\n",
    "tablero_df"
   ]
  },
  {
   "cell_type": "code",
   "execution_count": 23,
   "id": "69dc036d-3135-4ffd-8867-5499a6dc863e",
   "metadata": {},
   "outputs": [
    {
     "name": "stdout",
     "output_type": "stream",
     "text": [
      "Casillero (1,3) valores posibles: [1, 2, 4]\n",
      "Casillero (1,4) valores posibles: [2]\n",
      "Casillero (1,6) valores posibles: [2, 4, 6, 8]\n",
      "Casillero (1,7) valores posibles: [1, 4, 8, 9]\n",
      "Casillero (1,8) valores posibles: [1, 2, 4, 9]\n",
      "Casillero (1,9) valores posibles: [2, 4, 8]\n",
      "Casillero (2,2) valores posibles: [2, 4, 7]\n",
      "Casillero (2,3) valores posibles: [2, 4, 7]\n",
      "Casillero (2,7) valores posibles: [3, 4, 7, 8]\n",
      "Casillero (2,8) valores posibles: [2, 3, 4]\n",
      "Casillero (2,9) valores posibles: [2, 4, 7, 8]\n",
      "Casillero (3,1) valores posibles: [1, 2]\n",
      "Casillero (3,4) valores posibles: [2, 3]\n",
      "Casillero (3,5) valores posibles: [4]\n",
      "Casillero (3,6) valores posibles: [2, 3, 4]\n",
      "Casillero (3,7) valores posibles: [1, 3, 4, 5, 7]\n",
      "Casillero (3,9) valores posibles: [2, 4, 7]\n",
      "Casillero (4,2) valores posibles: [1, 2, 5]\n",
      "Casillero (4,3) valores posibles: [1, 2, 5, 9]\n",
      "Casillero (4,5) valores posibles: [4, 5]\n",
      "Casillero (4,6) valores posibles: [1, 4, 7]\n",
      "Casillero (4,7) valores posibles: [4, 5, 7, 9]\n",
      "Casillero (4,8) valores posibles: [2, 4, 5, 9]\n",
      "Casillero (5,2) valores posibles: [2, 5]\n",
      "Casillero (5,3) valores posibles: [2, 5, 6, 9]\n",
      "Casillero (5,6) valores posibles: [7]\n",
      "Casillero (5,7) valores posibles: [5, 7, 9]\n",
      "Casillero (5,8) valores posibles: [2, 5, 9]\n",
      "Casillero (6,2) valores posibles: [1, 5]\n",
      "Casillero (6,3) valores posibles: [1, 3, 5, 9]\n",
      "Casillero (6,4) valores posibles: [5, 9]\n",
      "Casillero (6,6) valores posibles: [1, 4]\n",
      "Casillero (6,7) valores posibles: [4, 5, 8, 9]\n",
      "Casillero (6,8) valores posibles: [4, 5, 9]\n",
      "Casillero (7,1) valores posibles: [1, 3, 9]\n",
      "Casillero (7,3) valores posibles: [1, 3, 4, 5, 7, 9]\n",
      "Casillero (7,4) valores posibles: [3, 5, 7]\n",
      "Casillero (7,5) valores posibles: [5]\n",
      "Casillero (7,6) valores posibles: [3, 7]\n",
      "Casillero (7,9) valores posibles: [4]\n",
      "Casillero (8,1) valores posibles: [2, 3]\n",
      "Casillero (8,2) valores posibles: [2, 7, 8]\n",
      "Casillero (8,3) valores posibles: [2, 3, 7]\n",
      "Casillero (8,7) valores posibles: [3, 6]\n",
      "Casillero (8,8) valores posibles: [3]\n",
      "Casillero (9,1) valores posibles: [1, 2, 3]\n",
      "Casillero (9,2) valores posibles: [1, 2, 4, 5]\n",
      "Casillero (9,3) valores posibles: [1, 2, 3, 4, 5]\n",
      "Casillero (9,4) valores posibles: [2, 3, 5]\n",
      "Casillero (9,6) valores posibles: [2, 3, 6]\n",
      "Casillero (9,7) valores posibles: [1, 3, 4, 6]\n"
     ]
    }
   ],
   "source": [
    "mostrar_posibles(tablero)"
   ]
  },
  {
   "cell_type": "markdown",
   "id": "a32ac787-738c-47ed-b2a5-1dc47d4dfd44",
   "metadata": {},
   "source": [
    "## Ejercicio 7\n",
    "\n",
    "Diseñe una función que reciba una oración, de no más de 200 caracteres, que contiene tanto\n",
    "palabras como números enteros de hasta 3 cifras. Asuma que las palabras no contienen\n",
    "dígitos numéricos, ni letras tildadas ni caracteres especiales, ni signos de puntuación.\n",
    "\n",
    "**Luego ejecute lo siguiente:**\n",
    "\n",
    "- Calcule la suma de los números enteros en dicha oración (s).\n",
    "- Obtenga el resto (r) de la división entera entre dicha suma (s) y el número 5. Luego a dicho\n",
    "resto (r) le sume 1 y obtenga un nuevo número (n).\n",
    "\n",
    "Luego determine cuantas palabras en la oración tienen “n” vocales diferentes. Debe imprimir\n",
    "en pantalla un mensaje indicando cuantas palabras tienen “n” vocales diferentes y la función\n",
    "deber retornar la cantidad de palabras calculadas.\n",
    "    \n",
    "**Ejemplo:**\n",
    "Se recibe la siguiente oración:\n",
    "- Mis primos tienen casi 40 anios yo tengo 34 y tenemos que jugar pelota con gente de\n",
    "18 esta bien dificil ganar\n",
    "Debe retornar el número 2 (que indica que hay 2 palabras con 3 vocales diferentes)\n",
    "El programa principal debe imprimir Hay 2 palabras con 3 vocales diferentes\n",
    "> Nota: s = 40+34+18 = 92; r = 92 mod 5 = 2; n = r+1 = 3;"
   ]
  },
  {
   "cell_type": "code",
   "execution_count": 24,
   "id": "c60b5e1b-2c83-4b91-ba1f-7643122cc6b9",
   "metadata": {},
   "outputs": [],
   "source": [
    "import re"
   ]
  },
  {
   "cell_type": "code",
   "execution_count": 25,
   "id": "b3072827-d654-4b15-94bc-22cc068c5a32",
   "metadata": {},
   "outputs": [],
   "source": [
    "def sumar_numeros(oracion):\n",
    "    \"\"\"\n",
    "    Extrae los números enteros de la oración y devuelve su suma.\n",
    "    \"\"\"\n",
    "    numeros = re.findall(r'\\b\\d{1,3}\\b', oracion)  # Buscar números de 1 a 3 dígitos\n",
    "    numeros = list(map(int, numeros))\n",
    "    return sum(numeros)"
   ]
  },
  {
   "cell_type": "code",
   "execution_count": 26,
   "id": "01137f86-9770-4c1d-9a1f-c1f44bbd3961",
   "metadata": {},
   "outputs": [],
   "source": [
    "def calcular_n(suma):\n",
    "    \"\"\"\n",
    "    Calcula el resto entre la suma y el numero 5 y al dicho resto sumarle 1.\n",
    "    \"\"\"\n",
    "    return suma % 5 + 1"
   ]
  },
  {
   "cell_type": "code",
   "execution_count": 27,
   "id": "f6ad8349-0857-4b68-9cfc-eeddeb5ae533",
   "metadata": {},
   "outputs": [],
   "source": [
    "def contar_vocales_diferentes(palabra):\n",
    "    \"\"\"\n",
    "    Cuenta el número de vocales diferentes en una palabra.\n",
    "    \"\"\"\n",
    "    vocales = set('aeiou')  # Conjunto de vocales\n",
    "    return len(set([letra for letra in palabra.lower() if letra in vocales]))"
   ]
  },
  {
   "cell_type": "code",
   "execution_count": 28,
   "id": "a3386614-b189-47be-830c-7874c31e9e73",
   "metadata": {},
   "outputs": [],
   "source": [
    "def contar_palabras_con_n_vocales_diferentes(oracion, n):\n",
    "    \"\"\"\n",
    "    Cuenta cuántas palabras en la oración tienen exactamente n vocales diferentes.\n",
    "    \"\"\"\n",
    "    return sum(1 for palabra in oracion.split(' ') if contar_vocales_diferentes(palabra) == n)"
   ]
  },
  {
   "cell_type": "markdown",
   "id": "82b818b9-5bce-4e9a-83b5-b8ec0b44cfd2",
   "metadata": {},
   "source": [
    "### Probando metodo"
   ]
  },
  {
   "cell_type": "code",
   "execution_count": 29,
   "id": "a0031bf3-b709-4734-b615-557464a36149",
   "metadata": {},
   "outputs": [
    {
     "name": "stdout",
     "output_type": "stream",
     "text": [
      "La suma de enteros en la oración es: 92\n"
     ]
    }
   ],
   "source": [
    "oracion = \"Mis primos tienen casi 40 anios yo tengo 34 y tenemos que jugar pelota con gente de 18 esta bien dificil ganar\"\n",
    "suma_enteros_en_oracion = sumar_numeros(oracion)\n",
    "\n",
    "print(f\"La suma de enteros en la oración es: {suma_enteros_en_oracion}\")"
   ]
  },
  {
   "cell_type": "code",
   "execution_count": 30,
   "id": "616c0626-3bc3-4247-a44d-6f89890aea80",
   "metadata": {},
   "outputs": [
    {
     "name": "stdout",
     "output_type": "stream",
     "text": [
      "El resultado entre la division entera de la suma y 5, incrementado en 1, se obtiene: 3\n"
     ]
    }
   ],
   "source": [
    "n = calcular_n(suma_enteros_en_oracion)\n",
    "print(f\"El resultado entre la division entera de la suma y 5, incrementado en 1, se obtiene: {n}\")"
   ]
  },
  {
   "cell_type": "code",
   "execution_count": 31,
   "id": "9c88ce63-5d66-44ca-8c4b-6c77f949021a",
   "metadata": {},
   "outputs": [
    {
     "name": "stdout",
     "output_type": "stream",
     "text": [
      "Hay 2 palabras con 3 vocales\n"
     ]
    }
   ],
   "source": [
    "palabras_con_n_letras = contar_palabras_con_n_vocales_diferentes(oracion, n)\n",
    "print(f\"Hay {palabras_con_n_letras} palabras con {n} vocales\")"
   ]
  },
  {
   "cell_type": "markdown",
   "id": "b1c54d23-cc3b-48e6-96b3-d312c0f3da42",
   "metadata": {},
   "source": [
    "## Ejercicio 8\n",
    "\n",
    "Sergei ha diseñado una nueva línea de juguetes anidados: “babushkas generalizadas” (en\n",
    "adelante BG), inspirados en las tradicionales babushkas rusas (una babushkas es una\n",
    "muñeca que puede abrirse en dos mitades, de modo que se encuentra otra muñeca dentro,\n",
    "la misma que puede tener otra muñeca dentro y así seguir varias veces, hasta llegar a una\n",
    "muñeca final que no puede abrirse). En estas BG, cada juguete puede contener varios\n",
    "juguetes (no sólo 1) más pequeños dentro de él.\n",
    "\n",
    "Vladimir ha desarrollado una notación para describir cómo deben construirse los juguetes\n",
    "anidados. Un juguete se representa con un número entero positivo, según su tamaño. Más\n",
    "concretamente: si al abrir el juguete representado por 𝑚 encontramos los juguetes\n",
    "representados por 𝑛1 , 𝑛2, … , 𝑛𝑟 , debe ser cierto que 𝑛1 , 𝑛2, … , 𝑛𝑟 < 𝑚. Y si esto es así,\n",
    "decimos que el juguete 𝑚 contiene directamente a los juguetes 𝑛1 , 𝑛2, … , 𝑛𝑟 (ojo: cualquier\n",
    "juguete que pueda estar contenidos en cualquiera de los juguetes 𝑛1 , 𝑛2, … , 𝑛𝑟 no se\n",
    "consideran directamente contenido en el juguete 𝑚).\n",
    "\n",
    "Una babushka generalizada (BG) se denota con una secuencia no vacía de enteros no\n",
    "nulos de la forma:\n",
    "\n",
    "$a_1, a_2, \\dots, a_N$\n",
    "\n",
    "tal que el juguete 𝑘 se representa en la secuencia con dos enteros −𝑘 y 𝑘, ubicándose el\n",
    "negativo antes que el positivo.\n",
    "\n",
    "\n",
    "**Por ejemplo, la secuencia:**\n",
    "\n",
    "-9 -7 -2 2 -3 -2 -1 1 2 3 7 9\n",
    "\n",
    "representa una BG formada por seis juguetes, a saber, 1, 2 (dos veces), 3, 7 y 9.\n",
    "Obsérvese que el juguete 7 contiene directamente los juguetes 2 y 3. Obsérvese que la\n",
    "primera copia del juguete 2 se produce a la izquierda de la segunda y que la segunda copia\n",
    "contiene directamente al juguete 1. Sería erróneo entender que el primer -2 y el último 2\n",
    "deberían estar emparejados.\n",
    "\n",
    "**Por otro lado, las siguientes secuencias no describen babushkas generalizadas:**\n",
    "\n",
    "−9 −7 −2 2 −3 −1 −2 2 1 3 7 9\n",
    "\n",
    "porque el juguete 2 es mayor que el juguete 1 y no puede asignarse dentro de él.\n",
    "\n",
    "-9 -7 -2 2 -3 -2 -1 1 2 3 7 -2 2 9\n",
    "\n",
    "porque 7 y 2 no pueden asignarse juntos dentro de 9.\n",
    "\n",
    "\n",
    "Tu tarea es escribir un programa que determine si una secuencia leída representa una\n",
    "babushkas generalizada válida.\n",
    "\n",
    "**Entrada**\n",
    "La primera línea constará de un entero “l” que indicará la cantidad de líneas a leer (l<20)\n",
    "Cada caso de prueba es una línea de enteros no nulos de 3 cifras o menos.\n",
    "\n",
    "**Salida**\n",
    "Por cada línea, imprime “: -) babushkas!” si es válida o “:-( intenta de nuevo.” si no lo es.\n",
    "\n",
    "**Ejemplo de Entrada**\n",
    "2\n",
    "-9 -7 -2 2 -3 -2 -1 1 2 3 7 9\n",
    "-9 -7 -2 2 -3 -1 -2 2 1 3 7 9\n",
    "\n",
    "**Ejemplo de Salida**\n",
    "- :-) babushkas!\n",
    "- :-( intenta de nuevo"
   ]
  },
  {
   "cell_type": "code",
   "execution_count": 32,
   "id": "3049b9e0-1683-4fb8-8b15-988b1b923f11",
   "metadata": {},
   "outputs": [],
   "source": [
    "def verificar_babushka(secuencia):\n",
    "    pila = []\n",
    "\n",
    "    for num in secuencia:\n",
    "        if num < 0:  # Si es un número negativo, representa un juguete que abre\n",
    "            pila.append(-num)  # Guardamos el valor positivo del juguete en la pila\n",
    "        else:  # Si es un número positivo, representa un juguete que se cierra\n",
    "            if not pila or pila[-1] != num:  # Si la pila está vacía o no coincide el juguete\n",
    "                return \":-( intenta de nuevo.\"\n",
    "            pila.pop()  # Si todo está bien, cerramos el juguete, sacamos el número de la pila\n",
    "    \n",
    "    # Si la pila está vacía, significa que todos los juguetes fueron correctamente cerrados\n",
    "    if not pila:\n",
    "        return \":-) babushkas!\"\n",
    "    else:\n",
    "        return \":-( intenta de nuevo.\""
   ]
  },
  {
   "cell_type": "markdown",
   "id": "8eea3b9f-9c40-4c63-bea9-e2237fd7f3b1",
   "metadata": {},
   "source": [
    "### Probando metodo"
   ]
  },
  {
   "cell_type": "code",
   "execution_count": 33,
   "id": "d729e40a-a4c3-4f49-a1da-6b0c729ea6b0",
   "metadata": {},
   "outputs": [
    {
     "name": "stdout",
     "output_type": "stream",
     "text": [
      ":-( intenta de nuevo.\n",
      ":-) babushkas!\n"
     ]
    }
   ],
   "source": [
    "casos_de_prueba = [\n",
    "    [-9, -7, -2, 2, -3, -2, 1, 2, 3, 7, 9],\n",
    "    [-9, -7, -2, 2, -3, -1, -2, 2, 1, 3, 7, 9]\n",
    "]\n",
    "\n",
    "for secuencia in casos_de_prueba:\n",
    "    print(verificar_babushka(secuencia))"
   ]
  },
  {
   "cell_type": "markdown",
   "id": "d2666071-8818-4473-8840-e672f65af61a",
   "metadata": {},
   "source": [
    "## Ejercicio 9\n",
    "\n",
    "Una abeja muy organizada ha numerado las celdas hexagonales de\n",
    "su – potencialmente infinito – panal de abeja en la forma indicada en la figura 2. Luego,\n",
    "la abeja se pregunta: ¿cuántas celdas deben ser recorridas para llegar desde la celda con\n",
    "numeración (x, y) hasta la celda con numeración (u, v)?\n",
    "\n",
    "<img alt=\"Sistema de coordenadas hexagonales\" src=\"img/image6.png\" style=\"display: block; margin-left: auto; margin-right: auto;\">\n",
    "\n",
    "Desarrolle un programa que lea 4 enteros x, y, u, v, en el rango [-1000, 1000] e imprima\n",
    "la cantidad de celdas que deben ser recorridas para llegar desde la celda (x, y) hasta la\n",
    "celda (u, v) del panal de abeja (incluyendo las celdas inicial y final)\n",
    "\n",
    "<img src=\"img/image7.png\" style=\"display: block; margin-left: auto; margin-right: auto;\">"
   ]
  },
  {
   "cell_type": "code",
   "execution_count": 34,
   "id": "4883bab3-1a1c-4e7d-9405-95f0912efcca",
   "metadata": {},
   "outputs": [],
   "source": [
    "from collections import deque\n",
    "\n",
    "directions = [(-1, 0), (-1, -1), (0, 1), (0, -1), (1, 1), (1, 0)]\n",
    "\n",
    "def bfs(x, y, u, v):\n",
    "    \"\"\"\n",
    "    Encuentra el camino más corto entre (x, y) y (u, v) utilizando el algoritmo BFS\n",
    "    en un panal hexagonal con las direcciones especificadas.\n",
    "    \"\"\"\n",
    "    \n",
    "    queue = deque([(x, y, 0)])\n",
    "    visited = set()\n",
    "    parent = {}\n",
    "    visited.add((x, y))\n",
    "\n",
    "    while queue:\n",
    "        cx, cy, dist = queue.popleft()\n",
    "\n",
    "        # Si alcanzamos la celda destino, devolvemos la distancia + 1 (incluyendo la celda de destino)\n",
    "\n",
    "        # Agregamos \n",
    "        if (cx, cy) == (u, v):\n",
    "            # Reconstruir el camino desde (u, v) hasta (x, y) siguiendo los padres\n",
    "            path = []\n",
    "            current = (u, v)\n",
    "            while current != (x, y):\n",
    "                path.append(current)\n",
    "                current = parent[current]\n",
    "            path.append((x, y))\n",
    "            path.reverse()  # Invertimos el camino\n",
    "            return dist + 1, path  # Devolvemos la distancia y la ruta completa\n",
    "        \n",
    "        # Explorar los vecinos en las 6 direcciones\n",
    "        for dx, dy in directions:\n",
    "            nx, ny = cx + dx, cy + dy\n",
    "            if (nx, ny) not in visited:\n",
    "                visited.add((nx, ny))\n",
    "                parent[(nx, ny)] = (cx, cy)  # Guardamos el padre del nodo\n",
    "                queue.append((nx, ny, dist + 1))\n",
    "\n",
    "    return -1, [] "
   ]
  },
  {
   "cell_type": "code",
   "execution_count": null,
   "id": "7bdfe585-e215-496b-a806-cb4f74377214",
   "metadata": {},
   "outputs": [],
   "source": []
  },
  {
   "cell_type": "markdown",
   "id": "0e737393-b991-4548-aed7-427a14e5e17a",
   "metadata": {},
   "source": [
    "### Probando metodo"
   ]
  },
  {
   "cell_type": "code",
   "execution_count": 35,
   "id": "9f05a173-973e-4586-b4c2-924e27848ff8",
   "metadata": {},
   "outputs": [
    {
     "name": "stdout",
     "output_type": "stream",
     "text": [
      "(2, [(0, 0), (1, 1)])\n",
      "(4, [(1, 0), (1, 1), (2, 2), (3, 3)])\n",
      "(1, [(2, 1)])\n"
     ]
    }
   ],
   "source": [
    "casos_de_prueba = [\n",
    "    (0, 0, 1, 1), #2\n",
    "    (1, 0, 3, 3), #4\n",
    "    (2, 1, 2, 1)  #1\n",
    "]\n",
    "\n",
    "for caso in casos_de_prueba:\n",
    "    x, y, u, v = caso\n",
    "    # Calcular la distancia\n",
    "    resultado = bfs(x, y, u, v)\n",
    "    # Imprimir el resultado\n",
    "    print(resultado)"
   ]
  },
  {
   "cell_type": "code",
   "execution_count": 36,
   "id": "ad3c10cc-32cc-4a14-839f-636bf50b9921",
   "metadata": {},
   "outputs": [],
   "source": [
    "import numpy as np"
   ]
  },
  {
   "cell_type": "markdown",
   "id": "164b7d9b-42c9-4cbe-b791-e7bc9fa3c1df",
   "metadata": {},
   "source": [
    "## Ejercicio 10\n",
    "\n",
    "Nuestro mundo ha sido invadido por extraterrestres que cambian de forma y secuestran\n",
    "personas y roban sus identidades. Eres un inspector de un grupo de trabajo dedicado a\n",
    "detectarlos y capturarlos. Como tal, se te proporcionaron herramientas especiales para\n",
    "detectar extraterrestres y diferenciarlos de los humanos reales. Tu misión actual es visitar\n",
    "una ciudad que se sospecha que ha sido invadida, inspeccionar en secreto a todas las\n",
    "personas allí para saber quiénes son extraterrestres y quienes no, e informarlo todo al Cuartel\n",
    "General. Luego podrían enviar fuerzas a la ciudad por sorpresa y capturar a todos los\n",
    "alienígenas a la vez.\n",
    "\n",
    "Los extraterrestres conocen el trabajo de inspectores como usted y están monitoreando\n",
    "todos los canales de radio para detectar la transmisión de dichos informes, con el fin de\n",
    "anticipar cualquier represalia. Por lo tanto, se han realizado varios esfuerzos para cifrar los\n",
    "informes y el método más reciente utiliza polinomios.\n",
    "\n",
    "La ciudad que debes visitar tiene N ciudadanos, cada uno identificado por un número\n",
    "entero par distinto de 2 a 2N. Desea encontrar un polinomio P tal que, para cada ciudadano\n",
    "i, P(i) > 0 si el ciudadano i es un ser humano, y P(i) < 0 en caso contrario. Este\n",
    "polinomio será transmitido a la sede. Con el objetivo de minimizar el ancho de banda,\n",
    "el polinomio tiene algunos requisitos adicionales: cada raíz y coeficiente debe ser un\n",
    "número entero, el coeficiente de su término de mayor grado debe ser 1 o -1, y su grado\n",
    "debe ser el más bajo posible.\n",
    "Para cada ciudadano, sabes si es humano o no. Dada esta información, debes\n",
    "encontrar un polinomio que satisfaga las restricciones descritas.\n",
    "\n",
    "**Entrada**\n",
    "La entrada consta de una sola línea que contiene una cadena S de longitud N (1 ≤ N ≤\n",
    "104), donde N es la población de la ciudad. Para i = 1, 2, ..., N, el i-ésimo carácter de S\n",
    "es la letra mayúscula “H” o la letra mayúscula “A”, lo que indica respectivamente que\n",
    "el ciudadano 2i es un humano o un extraterrestre.\n",
    "```\n",
    "caso 1\n",
    "HHH\n",
    "caso 2\n",
    "AHHA\n",
    "caso 3\n",
    "AHHHAH\n",
    "```\n",
    "**Salida**\n",
    "La primera línea debe contener un número entero D que indique el grado de un\n",
    "polinomio que satisface las restricciones descritas. La segunda línea debe contener\n",
    "D + 1 números enteros que representen los coeficientes del polinomio, en orden\n",
    "decreciente de los términos correspondientes. Se garantiza que existe al menos una\n",
    "solución tal que el valor absoluto de cada coeficiente sea menor que 263.\n",
    "```\n",
    "caso 1\n",
    "0 1\n",
    "caso 2\n",
    "2-\n",
    "1 10 -21\n",
    "caso 3\n",
    "3\n",
    "1 -23 159 -297\n",
    "```"
   ]
  },
  {
   "cell_type": "code",
   "execution_count": 37,
   "id": "b28faf0e",
   "metadata": {},
   "outputs": [],
   "source": [
    "def evaluar_polinomio(coeficientes, x):\n",
    "    \"\"\"\n",
    "    Evalúa el polinomio dado en el valor x utilizando los coeficientes proporcionados.\n",
    "    \"\"\"\n",
    "    return sum(coef * (x ** (len(coeficientes) - i - 1)) for i, coef in enumerate(coeficientes))"
   ]
  },
  {
   "cell_type": "code",
   "execution_count": 38,
   "id": "951f7ed2",
   "metadata": {},
   "outputs": [],
   "source": [
    "def verificar_signos(S, coeficientes):\n",
    "    \"\"\"\n",
    "    Verifica si el polinomio cumple con las condiciones de signo.\n",
    "    \"\"\"\n",
    "    puntos = []\n",
    "    for i, c in enumerate(S):\n",
    "        if c == 'H':\n",
    "            puntos.append((2 * (i + 1), 1))  # Humanos -> (2i, 1)\n",
    "        elif c == 'A':\n",
    "            puntos.append((2 * (i + 1), -1))  # Extraterrestres -> (2i, -1)\n",
    "\n",
    "    # Comprobar los valores del polinomio en los puntos\n",
    "    for (x, esperado) in puntos:\n",
    "        valor = evaluar_polinomio(coeficientes, x)\n",
    "        if (esperado == 1 and valor <= 0) or (esperado == -1 and valor >= 0):\n",
    "            return False\n",
    "    return True"
   ]
  },
  {
   "cell_type": "code",
   "execution_count": 39,
   "id": "c9cd1951",
   "metadata": {},
   "outputs": [],
   "source": [
    "def generar_polinomio(S):\n",
    "    \"\"\"\n",
    "    Genera el polinomio mínimo que cumple las condiciones especificadas para humanos y extraterrestres,\n",
    "    comenzando con grado 0 y aumentando hasta encontrar el polinomio adecuado, incluyendo hasta grado 4.\n",
    "    \"\"\"\n",
    "    grado = 0\n",
    "    while grado <= 4:\n",
    "        print(f\"\\nProbando polinomio de grado {grado}\")\n",
    "        \n",
    "        for a in [1, -1]: \n",
    "            for b in range(-50, 51, 10): \n",
    "                for c in range(-50, 51, 10):\n",
    "                    for d in range(-50, 51, 10):\n",
    "                        for e in range(-50, 51, 10):\n",
    "                            if grado == 0:\n",
    "                                coeficientes = [a]\n",
    "                            elif grado == 1:\n",
    "                                coeficientes = [a, b]\n",
    "                            elif grado == 2:\n",
    "                                coeficientes = [a, b, c]\n",
    "                            elif grado == 3:\n",
    "                                coeficientes = [a, b, c, d]\n",
    "                            else:\n",
    "                                coeficientes = [a, b, c, d, e]\n",
    "\n",
    "                            if any(abs(coef) > 263 for coef in coeficientes):\n",
    "                                continue\n",
    "\n",
    "                            for constante in range(-500, 501, 10):\n",
    "                                coeficientes[-1] = constante\n",
    "                                \n",
    "                                if verificar_signos(S, coeficientes):\n",
    "                                    print(f\"Polinomio de grado {grado} encontrado:\")\n",
    "                                    print(\"Coeficientes:\", coeficientes)\n",
    "                                    # Imprimir el polinomio en formato legible\n",
    "                                    polinomio = []\n",
    "                                    for i, coef in enumerate(coeficientes):\n",
    "                                        exponente = grado - i\n",
    "                                        if coef == 0:\n",
    "                                            continue\n",
    "                                        elif exponente == 0:\n",
    "                                            polinomio.append(f\"{coef}\")\n",
    "                                        elif exponente == 1:\n",
    "                                            polinomio.append(f\"{coef}x\")\n",
    "                                        else:\n",
    "                                            polinomio.append(f\"{coef}x^{exponente}\")\n",
    "                                    \n",
    "                                    polinomio_str = \" + \".join(polinomio).replace(\" + -\", \" - \")\n",
    "                                    print(f\"Polinomio: P(x) = {polinomio_str}\")\n",
    "                                    return coeficientes\n",
    "        grado += 1  # Incrementar el grado y probar con el siguiente\n",
    "\n",
    "    print(\"No se encontró un polinomio válido usando la búsqueda.\")\n",
    "    return None"
   ]
  },
  {
   "cell_type": "markdown",
   "id": "d06a1595-cb59-4e16-af8d-9f7bd52c8ad8",
   "metadata": {},
   "source": [
    "### Probando metodo"
   ]
  },
  {
   "cell_type": "code",
   "execution_count": 40,
   "id": "49a92f28-8886-43c4-9a57-79cd326eb5f6",
   "metadata": {},
   "outputs": [
    {
     "name": "stdout",
     "output_type": "stream",
     "text": [
      "\n",
      "Probando polinomio de grado 0\n",
      "Polinomio de grado 0 encontrado:\n",
      "Coeficientes: [10]\n",
      "Polinomio: P(x) = 10\n",
      "\n",
      "Probando polinomio de grado 0\n",
      "\n",
      "Probando polinomio de grado 1\n",
      "\n",
      "Probando polinomio de grado 2\n",
      "Polinomio de grado 2 encontrado:\n",
      "Coeficientes: [-1, 10, -20]\n",
      "Polinomio: P(x) = -1x^2 + 10x - 20\n",
      "\n",
      "Probando polinomio de grado 0\n",
      "\n",
      "Probando polinomio de grado 1\n",
      "\n",
      "Probando polinomio de grado 2\n",
      "\n",
      "Probando polinomio de grado 3\n",
      "\n",
      "Probando polinomio de grado 4\n",
      "No se encontró un polinomio válido usando la búsqueda.\n"
     ]
    }
   ],
   "source": [
    "S1 = \"HHH\"\n",
    "S2 = \"AHHA\"\n",
    "S3 = \"AHHHAH\"\n",
    "\n",
    "generar_polinomio(S1)\n",
    "generar_polinomio(S2)\n",
    "generar_polinomio(S3)"
   ]
  },
  {
   "cell_type": "markdown",
   "id": "5ed8311e",
   "metadata": {},
   "source": []
  },
  {
   "cell_type": "code",
   "execution_count": null,
   "id": "102822f2-1e48-4fc7-897a-5427bd641633",
   "metadata": {},
   "outputs": [],
   "source": []
  }
 ],
 "metadata": {
  "kernelspec": {
   "display_name": "Python 3 (ipykernel)",
   "language": "python",
   "name": "python3"
  },
  "language_info": {
   "codemirror_mode": {
    "name": "ipython",
    "version": 3
   },
   "file_extension": ".py",
   "mimetype": "text/x-python",
   "name": "python",
   "nbconvert_exporter": "python",
   "pygments_lexer": "ipython3",
   "version": "3.13.0"
  }
 },
 "nbformat": 4,
 "nbformat_minor": 5
}
